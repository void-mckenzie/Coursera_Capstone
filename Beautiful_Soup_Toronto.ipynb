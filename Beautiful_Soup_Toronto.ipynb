{
 "cells": [
  {
   "cell_type": "markdown",
   "metadata": {},
   "source": [
    "<h1>Web Scraping using Beautiful Soup</h1>"
   ]
  },
  {
   "cell_type": "markdown",
   "metadata": {},
   "source": [
    "Here, we first import the required packages"
   ]
  },
  {
   "cell_type": "code",
   "execution_count": 2,
   "metadata": {},
   "outputs": [],
   "source": [
    "from bs4 import BeautifulSoup\n",
    "import requests\n",
    "import pandas as pd"
   ]
  },
  {
   "cell_type": "markdown",
   "metadata": {},
   "source": [
    "We then use the requests library to get the HTML document from the given Toronto Neighbourhood's Wikipedia page. We then use the <b>'lxml'</b> parser from BeautifulSoup to parse through the HTML code. "
   ]
  },
  {
   "cell_type": "code",
   "execution_count": 4,
   "metadata": {},
   "outputs": [],
   "source": [
    "r=requests.get('https://en.wikipedia.org/wiki/List_of_postal_codes_of_Canada:_M')\n",
    "soup=BeautifulSoup(r.text,'lxml')"
   ]
  },
  {
   "cell_type": "markdown",
   "metadata": {},
   "source": [
    "We navigate to the div which contains the required table."
   ]
  },
  {
   "cell_type": "code",
   "execution_count": 6,
   "metadata": {},
   "outputs": [],
   "source": [
    "s1=soup.find(\"div\",id=\"content\").find(\"div\",id=\"bodyContent\").find(\"div\",id=\"mw-content-text\").find(\"div\",class_=\"mw-parser-output\").find(\"table\")"
   ]
  },
  {
   "cell_type": "markdown",
   "metadata": {},
   "source": [
    "We Parse through the Table and create a 2D list of all the Postalcodes, Boroughs and Neighbourhoods."
   ]
  },
  {
   "cell_type": "code",
   "execution_count": 7,
   "metadata": {},
   "outputs": [],
   "source": [
    "l=[]\n",
    "for i in s1.find_all('tr'):\n",
    "    if(i.th):\n",
    "        l1=i.find_all('th')\n",
    "        l1[0]=l1[0].text\n",
    "        l1[1]=l1[1].text\n",
    "        l1[2]=l1[2].text.strip('\\n')\n",
    "        l.append(l1)\n",
    "    if(i.td !=None):\n",
    "        l1=i.find_all('td')\n",
    "        l1[0]=l1[0].text\n",
    "        l1[1]=l1[1].text\n",
    "        l1[2]=l1[2].text.strip('\\n')\n",
    "        l.append(l1)"
   ]
  },
  {
   "cell_type": "markdown",
   "metadata": {},
   "source": [
    "Using this list, we create our primary data frame, which will be used for further refinement."
   ]
  },
  {
   "cell_type": "code",
   "execution_count": 8,
   "metadata": {},
   "outputs": [],
   "source": [
    "df=pd.DataFrame(l[1:],columns=l[0])"
   ]
  },
  {
   "cell_type": "markdown",
   "metadata": {},
   "source": [
    "We drop those rows which have unassigned Boroughs."
   ]
  },
  {
   "cell_type": "code",
   "execution_count": 9,
   "metadata": {},
   "outputs": [],
   "source": [
    "df=pd.DataFrame(l[1:],columns=l[0])\n",
    "x=(df['Borough']!='Not assigned')\n",
    "df=df[x]"
   ]
  },
  {
   "cell_type": "markdown",
   "metadata": {},
   "source": [
    "We reset the index, and then proceed to clean the data. When multiple Neighbourhoods exist for the same PostCode, we group them together. Also, if a neighbourhood  is not assigned, then we simply make the Borough it's neighbourhood"
   ]
  },
  {
   "cell_type": "code",
   "execution_count": 10,
   "metadata": {},
   "outputs": [],
   "source": [
    "df=df.reset_index()\n",
    "df=df.drop('index',axis=1)\n",
    "\n",
    "y=set(df['Postcode'])\n",
    "lomo=[]\n",
    "moon=[]\n",
    "y=list(y)\n",
    "for i in y:\n",
    "    x=df['Postcode']==i\n",
    "    dftemp=df[x]\n",
    "    l1=[]\n",
    "    for j in dftemp['Neighbourhood']:\n",
    "        if(j=='Not assigned'):\n",
    "            yolo=dftemp['Borough']\n",
    "            l1.append(yolo.iloc[0])\n",
    "            continue\n",
    "        l1.append(j)\n",
    "    lomo.append(','.join(l1).strip(','))\n",
    "    moon.append(dftemp['Borough'].iloc[0])"
   ]
  },
  {
   "cell_type": "markdown",
   "metadata": {},
   "source": [
    "The final processed DataFrame is got created from the 3 lists."
   ]
  },
  {
   "cell_type": "code",
   "execution_count": 13,
   "metadata": {},
   "outputs": [
    {
     "data": {
      "text/html": [
       "<div>\n",
       "<style scoped>\n",
       "    .dataframe tbody tr th:only-of-type {\n",
       "        vertical-align: middle;\n",
       "    }\n",
       "\n",
       "    .dataframe tbody tr th {\n",
       "        vertical-align: top;\n",
       "    }\n",
       "\n",
       "    .dataframe thead th {\n",
       "        text-align: right;\n",
       "    }\n",
       "</style>\n",
       "<table border=\"1\" class=\"dataframe\">\n",
       "  <thead>\n",
       "    <tr style=\"text-align: right;\">\n",
       "      <th></th>\n",
       "      <th>Postcode</th>\n",
       "      <th>Borough</th>\n",
       "      <th>Neighbourhood</th>\n",
       "    </tr>\n",
       "  </thead>\n",
       "  <tbody>\n",
       "    <tr>\n",
       "      <th>0</th>\n",
       "      <td>M9W</td>\n",
       "      <td>Etobicoke</td>\n",
       "      <td>Northwest</td>\n",
       "    </tr>\n",
       "    <tr>\n",
       "      <th>1</th>\n",
       "      <td>M5S</td>\n",
       "      <td>Downtown Toronto</td>\n",
       "      <td>Harbord,University of Toronto</td>\n",
       "    </tr>\n",
       "    <tr>\n",
       "      <th>2</th>\n",
       "      <td>M3J</td>\n",
       "      <td>North York</td>\n",
       "      <td>Northwood Park,York University</td>\n",
       "    </tr>\n",
       "    <tr>\n",
       "      <th>3</th>\n",
       "      <td>M2H</td>\n",
       "      <td>North York</td>\n",
       "      <td>Hillcrest Village</td>\n",
       "    </tr>\n",
       "    <tr>\n",
       "      <th>4</th>\n",
       "      <td>M9C</td>\n",
       "      <td>Etobicoke</td>\n",
       "      <td>Bloordale Gardens,Eringate,Markland Wood,Old B...</td>\n",
       "    </tr>\n",
       "  </tbody>\n",
       "</table>\n",
       "</div>"
      ],
      "text/plain": [
       "  Postcode           Borough  \\\n",
       "0      M9W         Etobicoke   \n",
       "1      M5S  Downtown Toronto   \n",
       "2      M3J        North York   \n",
       "3      M2H        North York   \n",
       "4      M9C         Etobicoke   \n",
       "\n",
       "                                       Neighbourhood  \n",
       "0                                          Northwest  \n",
       "1                      Harbord,University of Toronto  \n",
       "2                     Northwood Park,York University  \n",
       "3                                  Hillcrest Village  \n",
       "4  Bloordale Gardens,Eringate,Markland Wood,Old B...  "
      ]
     },
     "execution_count": 13,
     "metadata": {},
     "output_type": "execute_result"
    }
   ],
   "source": [
    "df_final=pd.DataFrame({'Postcode':y,'Borough':moon,'Neighbourhood':lomo})\n",
    "df_final.head()"
   ]
  },
  {
   "cell_type": "code",
   "execution_count": 14,
   "metadata": {},
   "outputs": [
    {
     "data": {
      "text/plain": [
       "(103, 3)"
      ]
     },
     "execution_count": 14,
     "metadata": {},
     "output_type": "execute_result"
    }
   ],
   "source": [
    "df_final.shape"
   ]
  }
 ],
 "metadata": {
  "kernelspec": {
   "display_name": "Python 3",
   "language": "python",
   "name": "python3"
  },
  "language_info": {
   "codemirror_mode": {
    "name": "ipython",
    "version": 3
   },
   "file_extension": ".py",
   "mimetype": "text/x-python",
   "name": "python",
   "nbconvert_exporter": "python",
   "pygments_lexer": "ipython3",
   "version": "3.6.8"
  }
 },
 "nbformat": 4,
 "nbformat_minor": 2
}
